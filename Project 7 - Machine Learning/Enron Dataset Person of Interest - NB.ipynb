{
 "cells": [
  {
   "cell_type": "markdown",
   "metadata": {},
   "source": [
    "# 1a)  Goal of this project:\n",
    "The end goal of this project is to use the available Enron dataset and build a Machine learning model that could classify whether a person is a Person of Interest (POI) or not. Here the POI refers to the individual who were tried for fraud or criminal activity and not just those who were convicted. The dataset used comprises of Financial data, Email metadata like counters of email sent to and from the person and a label indicating whether a person is a POI."
   ]
  },
  {
   "cell_type": "code",
   "execution_count": 159,
   "metadata": {},
   "outputs": [
    {
     "data": {
      "text/plain": [
       "'C:\\\\Users\\\\ss842p\\\\Documents\\\\ATT Sab Documents\\\\Nano Degree\\\\Data Analyst\\\\Machine Learning\\\\ud120-projects-master\\\\ud120-projects-master\\\\final_project'"
      ]
     },
     "execution_count": 159,
     "metadata": {},
     "output_type": "execute_result"
    }
   ],
   "source": [
    "import os\n",
    "os.getcwd()\n",
    "os.chdir(r'C:\\Users\\ss842p\\Documents\\ATT Sab Documents\\Nano Degree\\Data Analyst\\Machine Learning\\ud120-projects-master\\ud120-projects-master\\final_project') \n",
    "os.getcwd()\n"
   ]
  },
  {
   "cell_type": "code",
   "execution_count": 160,
   "metadata": {},
   "outputs": [],
   "source": [
    "import sys\n",
    "import pickle\n",
    "import numpy as np\n",
    "import pandas as pd\n",
    "sys.path.append(\"../tools/\")\n",
    "import matplotlib.pyplot\n",
    "import seaborn as sns\n",
    "import tester\n",
    "from feature_format import featureFormat, targetFeatureSplit\n",
    "#from tester import dump_classifier_and_data\n",
    "from sklearn.feature_selection import SelectKBest, f_classif\n",
    "from sklearn.naive_bayes import GaussianNB\n",
    "from sklearn.tree import DecisionTreeClassifier\n",
    "from sklearn.svm import SVC\n",
    "from sklearn.cluster import KMeans\n",
    "from sklearn import preprocessing\n",
    "from sklearn import metrics\n",
    "from sklearn.cross_validation import train_test_split\n",
    "from sklearn.cross_validation import StratifiedShuffleSplit\n",
    "from sklearn.pipeline import Pipeline\n",
    "from sklearn.decomposition import PCA\n",
    "from sklearn.grid_search import GridSearchCV\n",
    "import operator"
   ]
  },
  {
   "cell_type": "markdown",
   "metadata": {},
   "source": [
    "# 1b) Data Exploration\n",
    "\n",
    "Imported the data points and upon analyzing the same, below are the observations:   "
   ]
  },
  {
   "cell_type": "raw",
   "metadata": {},
   "source": [
    "1) Total number of Enron Employees included in the dataset are :  146\n",
    "2) Total number of Features included in the dataset are :  21\n",
    "3) Examine the unique values of POI field :  [False  True]\n",
    "4) How many are classified as POI and non-POI?  POI =  18 & non-POI =  128\n",
    "\n",
    "Something to note here are:\n",
    "1) The data set comprises of very low POI as compared to non POI (as one would expect). This needs to be taken into account when the Evaluation metrics are selected.\n",
    "2) The Nan values is string rather than actual Nan and hence needs to be massaged to reflect the NULL value in order to better represent the shape of the data\n",
    "\n",
    "Outlier Analysis:\n",
    "The idea here is to look for outlier in the datapoint that is going to \n",
    "a) skew the results unfairly\n",
    "b) add to the noise and has no relevance to the outcome of the study\n",
    "\n",
    "From that perspective:\n",
    "1) There is the record with Aggregate Total i.e. \"TOTAL\" that needs to be removed from the dataset\n",
    "2) The financial data corresponding to the employees BELFER ROBERT & BHATNAGAR SANJAY did not tally with the provided column level aggregate of Salary and Stock and hence this needs to be cleaned up manaully by referencing the source PDF i.e. the metadata information from enron61702insiderpay.pdf      \n",
    "3) On checking the applicability of the information available for each employee, I see that LOCKHART EUGENE E has all of the financial and email related columns as NULL and furthere he is a non poi and hence this record would be scrubbed from the study\n",
    "4) Also, I see that there is a record related to the \"THE TRAVEL AGENCY IN THE PARK\". Although this is not related to any employee, I do not know enough about the impact of removing this from the dataset and hence I am not excluding this from the dataset at this point."
   ]
  },
  {
   "cell_type": "code",
   "execution_count": 161,
   "metadata": {},
   "outputs": [],
   "source": [
    "with open(\"final_project_dataset.pkl\", \"r\") as data_file:\n",
    "    data_dict = pickle.load(data_file)"
   ]
  },
  {
   "cell_type": "code",
   "execution_count": 162,
   "metadata": {
    "scrolled": true
   },
   "outputs": [
    {
     "name": "stdout",
     "output_type": "stream",
     "text": [
      "****************Data Exploration Analysis*******************************************\n",
      "Total number of Enron Employees included in the dataset are :  146\n",
      "Total number of Features included in the dataset are :  21\n",
      "Examine the unique values of POI field :  [False  True]\n",
      "How many are classified as POI and non-POI?  POI =  18 & non-POI =  128\n",
      "Do the dataset have any NaN Values? <class 'pandas.core.frame.DataFrame'>\n",
      "Index: 146 entries, ALLEN PHILLIP K to YEAP SOON\n",
      "Data columns (total 21 columns):\n",
      "salary                       146 non-null object\n",
      "to_messages                  146 non-null object\n",
      "deferral_payments            146 non-null object\n",
      "total_payments               146 non-null object\n",
      "exercised_stock_options      146 non-null object\n",
      "bonus                        146 non-null object\n",
      "restricted_stock             146 non-null object\n",
      "shared_receipt_with_poi      146 non-null object\n",
      "restricted_stock_deferred    146 non-null object\n",
      "total_stock_value            146 non-null object\n",
      "expenses                     146 non-null object\n",
      "loan_advances                146 non-null object\n",
      "from_messages                146 non-null object\n",
      "other                        146 non-null object\n",
      "from_this_person_to_poi      146 non-null object\n",
      "poi                          146 non-null bool\n",
      "director_fees                146 non-null object\n",
      "deferred_income              146 non-null object\n",
      "long_term_incentive          146 non-null object\n",
      "email_address                146 non-null object\n",
      "from_poi_to_this_person      146 non-null object\n",
      "dtypes: bool(1), object(20)\n",
      "memory usage: 24.1+ KB\n",
      " None\n",
      "Checking specific column to double check if there is indeed no NaN :  Empty DataFrame\n",
      "Columns: [salary, to_messages, deferral_payments, total_payments, exercised_stock_options, bonus, restricted_stock, shared_receipt_with_poi, restricted_stock_deferred, total_stock_value, expenses, loan_advances, from_messages, other, from_this_person_to_poi, poi, director_fees, deferred_income, long_term_incentive, email_address, from_poi_to_this_person]\n",
      "Index: []\n",
      "\n",
      "[0 rows x 21 columns]\n"
     ]
    }
   ],
   "source": [
    "# Load the data onto a data frame for analysis and wrangling as needed:\n",
    "\n",
    "enron_df = pd.DataFrame.from_dict(data_dict, orient = 'index')\n",
    "enron_feature_list = list(enron_df.columns.values)\n",
    "    \n",
    "print \"****************Data Exploration Analysis*******************************************\"\n",
    "print \"Total number of Enron Employees included in the dataset are : \", enron_df.shape[0]\n",
    "print \"Total number of Features included in the dataset are : \", enron_df.shape[1]\n",
    "print \"Examine the unique values of POI field : \", enron_df.poi.unique()\n",
    "print \"How many are classified as POI and non-POI? \", \"POI = \",enron_df[enron_df[\"poi\"]==1].shape[0], \"& non-POI = \",enron_df[enron_df[\"poi\"]==0].shape[0]\n",
    "print \"Do the dataset have any NaN Values? \", enron_df.info() \n",
    "print \"Checking specific column to double check if there is indeed no NaN : \",enron_df[enron_df[\"salary\"].isnull()]\n",
    "\n"
   ]
  },
  {
   "cell_type": "code",
   "execution_count": 163,
   "metadata": {},
   "outputs": [
    {
     "name": "stdout",
     "output_type": "stream",
     "text": [
      "**************** Data Wrangling *******************************************\n",
      "<class 'pandas.core.frame.DataFrame'>\n",
      "Index: 146 entries, ALLEN PHILLIP K to YEAP SOON\n",
      "Data columns (total 21 columns):\n",
      "salary                       95 non-null float64\n",
      "to_messages                  86 non-null float64\n",
      "deferral_payments            39 non-null float64\n",
      "total_payments               125 non-null float64\n",
      "exercised_stock_options      102 non-null float64\n",
      "bonus                        82 non-null float64\n",
      "restricted_stock             110 non-null float64\n",
      "shared_receipt_with_poi      86 non-null float64\n",
      "restricted_stock_deferred    18 non-null float64\n",
      "total_stock_value            126 non-null float64\n",
      "expenses                     95 non-null float64\n",
      "loan_advances                4 non-null float64\n",
      "from_messages                86 non-null float64\n",
      "other                        93 non-null float64\n",
      "from_this_person_to_poi      86 non-null float64\n",
      "poi                          146 non-null bool\n",
      "director_fees                17 non-null float64\n",
      "deferred_income              49 non-null float64\n",
      "long_term_incentive          66 non-null float64\n",
      "email_address                111 non-null object\n",
      "from_poi_to_this_person      86 non-null float64\n",
      "dtypes: bool(1), float64(19), object(1)\n",
      "memory usage: 24.1+ KB\n",
      "None\n"
     ]
    }
   ],
   "source": [
    "print \"**************** Data Wrangling *******************************************\"\n",
    "# Replace 'NaN' with the numpy nan\n",
    "enron_df = enron_df.replace('NaN', np.nan) \n",
    "#display(enron_df.info())\n",
    "print enron_df.info()\n",
    "\n",
    "# Replacing the numpy.nan to 'NaN' as the feature format function scrubs the NaN (string) from the numerical field \n",
    "# handled in the following funtion -> featureFormat( dictionary, features, remove_NaN=True, remove_all_zeroes=True, remove_any_zeroes=False, sort_keys = False):\n",
    "# pdata_dict = pdata_dict.replace(np.nan,'NaN')\n",
    "# print data"
   ]
  },
  {
   "cell_type": "markdown",
   "metadata": {},
   "source": [
    "# Data Cleansing #1 = Outlier Detection\n",
    "Analyze the data deeper and with context in order to understand if there is any outlier that may affect the study undesirably."
   ]
  },
  {
   "cell_type": "code",
   "execution_count": 164,
   "metadata": {},
   "outputs": [],
   "source": [
    "def data_preparation(pdata_dict,features):\n",
    "    # leveraging the function provided by udacity - from feature_format import featureFormat, targetFeatureSplit\n",
    "    data = featureFormat(data_dict, features) \n",
    "    return data\n",
    "\n",
    "def outlier_detection(data): \n",
    "    max_val = []\n",
    "    max_xval = 0\n",
    "    max_yval = 0\n",
    "    for point in data:\n",
    "        if point[0] > max_xval:\n",
    "            max_xval = point[0]\n",
    "        if point[1] > max_yval:\n",
    "            max_yval = point[1]            \n",
    "        matplotlib.pyplot.scatter( point[0], point[1] )\n",
    "    print \" Max of \",features[0],\" is \",max_xval\n",
    "    print \" Max of \",features[1],\" is \",max_yval\n",
    "    max_val.append(max_xval)\n",
    "    max_val.append(max_yval)\n",
    "    matplotlib.pyplot.xlabel(features[0])\n",
    "    matplotlib.pyplot.ylabel(features[1])\n",
    "    print matplotlib.pyplot.show()\n",
    "    return max_val\n",
    "\n"
   ]
  },
  {
   "cell_type": "code",
   "execution_count": 165,
   "metadata": {},
   "outputs": [
    {
     "name": "stdout",
     "output_type": "stream",
     "text": [
      "***************** Before Outlier removal******************************************\n",
      " Max of  salary  is  26704229.0\n",
      " Max of  bonus  is  97343619.0\n"
     ]
    },
    {
     "data": {
      "image/png": "[encoded data removed]",
      "text/plain": [
       "<matplotlib.figure.Figure at 0x1bad4908>"
      ]
     },
     "metadata": {},
     "output_type": "display_data"
    },
    {
     "name": "stdout",
     "output_type": "stream",
     "text": [
      "None\n"
     ]
    }
   ],
   "source": [
    "print \"***************** Before Outlier removal******************************************\"\n",
    "features = [\"salary\", \"bonus\"]\n",
    "data = data_preparation(data_dict,features)\n",
    "#print data\n",
    "max_val = outlier_detection(data)\n",
    "#print max_val\n"
   ]
  },
  {
   "cell_type": "markdown",
   "metadata": {},
   "source": [
    "# The above record corresponds to Total line and this needs to be scrubbed"
   ]
  },
  {
   "cell_type": "code",
   "execution_count": 166,
   "metadata": {},
   "outputs": [
    {
     "name": "stdout",
     "output_type": "stream",
     "text": [
      "           salary  to_messages  deferral_payments  total_payments  \\\n",
      "TOTAL  26704229.0          NaN         32083396.0     309886585.0   \n",
      "\n",
      "       exercised_stock_options       bonus  restricted_stock  \\\n",
      "TOTAL              311764000.0  97343619.0       130322299.0   \n",
      "\n",
      "       shared_receipt_with_poi  restricted_stock_deferred  total_stock_value  \\\n",
      "TOTAL                      NaN                 -7576788.0        434509511.0   \n",
      "\n",
      "                ...            loan_advances  from_messages       other  \\\n",
      "TOTAL           ...               83925000.0            NaN  42667589.0   \n",
      "\n",
      "       from_this_person_to_poi    poi  director_fees  deferred_income  \\\n",
      "TOTAL                      NaN  False      1398517.0      -27992891.0   \n",
      "\n",
      "       long_term_incentive  email_address from_poi_to_this_person  \n",
      "TOTAL           48521928.0            NaN                     NaN  \n",
      "\n",
      "[1 rows x 21 columns]\n"
     ]
    },
    {
     "data": {
      "text/plain": [
       "{'bonus': 97343619,\n",
       " 'deferral_payments': 32083396,\n",
       " 'deferred_income': -27992891,\n",
       " 'director_fees': 1398517,\n",
       " 'email_address': 'NaN',\n",
       " 'exercised_stock_options': 311764000,\n",
       " 'expenses': 5235198,\n",
       " 'from_messages': 'NaN',\n",
       " 'from_poi_to_this_person': 'NaN',\n",
       " 'from_this_person_to_poi': 'NaN',\n",
       " 'loan_advances': 83925000,\n",
       " 'long_term_incentive': 48521928,\n",
       " 'other': 42667589,\n",
       " 'poi': False,\n",
       " 'restricted_stock': 130322299,\n",
       " 'restricted_stock_deferred': -7576788,\n",
       " 'salary': 26704229,\n",
       " 'shared_receipt_with_poi': 'NaN',\n",
       " 'to_messages': 'NaN',\n",
       " 'total_payments': 309886585,\n",
       " 'total_stock_value': 434509511}"
      ]
     },
     "execution_count": 166,
     "metadata": {},
     "output_type": "execute_result"
    }
   ],
   "source": [
    "# Remove the Total line from the Data Frame\n",
    "print enron_df[enron_df.salary == max_val[0]]\n",
    "#display(enron_df[enron_df.salary == max_val[0]])\n",
    "# create a new df after reoving the Total line\n",
    "enron_df = enron_df[enron_df.salary != max_val[0]]\n",
    "#enron_df = enron_df[enron_df.loc != 'TOTAL']\n",
    "\n",
    "# Remove the Total line from the data dictionary\n",
    "# hardcoded the value to remove from the data_dict. I have done this intentionally \n",
    "# This was done so as not to remove the Top data point accidentallu for every execution which may remove the POI record\n",
    "data_dict.pop('TOTAL',0) \n"
   ]
  },
  {
   "cell_type": "code",
   "execution_count": 167,
   "metadata": {},
   "outputs": [
    {
     "name": "stdout",
     "output_type": "stream",
     "text": [
      "***************** After Outlier removal******************************************\n",
      " Max of  salary  is  1111258.0\n",
      " Max of  bonus  is  8000000.0\n"
     ]
    },
    {
     "data": {
      "image/png": "[encoded data removed]",
      "text/plain": [
       "<matplotlib.figure.Figure at 0x1bbd39e8>"
      ]
     },
     "metadata": {},
     "output_type": "display_data"
    },
    {
     "name": "stdout",
     "output_type": "stream",
     "text": [
      "None\n",
      "[1111258.0, 8000000.0]\n",
      "                       salary  to_messages  deferral_payments  total_payments  \\\n",
      "SKILLING JEFFREY K  1111258.0       3627.0                NaN       8682716.0   \n",
      "\n",
      "                    exercised_stock_options      bonus  restricted_stock  \\\n",
      "SKILLING JEFFREY K               19250000.0  5600000.0         6843672.0   \n",
      "\n",
      "                    shared_receipt_with_poi  restricted_stock_deferred  \\\n",
      "SKILLING JEFFREY K                   2042.0                        NaN   \n",
      "\n",
      "                    total_stock_value           ...            loan_advances  \\\n",
      "SKILLING JEFFREY K         26093672.0           ...                      NaN   \n",
      "\n",
      "                    from_messages    other  from_this_person_to_poi   poi  \\\n",
      "SKILLING JEFFREY K          108.0  22122.0                     30.0  True   \n",
      "\n",
      "                    director_fees  deferred_income  long_term_incentive  \\\n",
      "SKILLING JEFFREY K            NaN              NaN            1920000.0   \n",
      "\n",
      "                              email_address from_poi_to_this_person  \n",
      "SKILLING JEFFREY K  jeff.skilling@enron.com                    88.0  \n",
      "\n",
      "[1 rows x 21 columns]\n"
     ]
    }
   ],
   "source": [
    "# Double check if there are any other data points that may be skewing the data set unfairly\n",
    "print \"***************** After Outlier removal******************************************\"\n",
    "features = [\"salary\", \"bonus\"]\n",
    "data = data_preparation(data_dict,features)\n",
    "max_val = outlier_detection(data)\n",
    "print max_val\n",
    "print enron_df[enron_df.salary == max_val[0]]\n",
    "#display(enron_df[enron_df.salary == max_val[0]])"
   ]
  },
  {
   "cell_type": "markdown",
   "metadata": {},
   "source": [
    "# Inference after Outlier Removal\n",
    "After the Total line removal, the data set looks good with the new Top Salary corresponding to SKILLING JEFFREY K who is a POI.\n",
    "\n"
   ]
  },
  {
   "cell_type": "markdown",
   "metadata": {},
   "source": [
    "# Data Cleansing #2 = Anomaly Detection\n",
    "There is also Column level aggregation in Total_Payments and Total_Stock_Values  in the dataset. The Payment related fields tallies to the Total_Payment and likewise the stock related fields tallies upto Total_Stock_Values for each Key present in the datapoint (source: the metadata information from enron61702insiderpay.pdf). These fields could be used for validating the accuracy of the data points that is used for the current study"
   ]
  },
  {
   "cell_type": "code",
   "execution_count": 168,
   "metadata": {},
   "outputs": [],
   "source": [
    "# Additional scrubbing\n",
    "\n",
    "def detect_anomaly():\n",
    "    # Create 4 separate list to orgranize 4 groups of data i.e. payment, stock, email and poi\n",
    "    # Create payment dataframe\n",
    "    enron_payment_df = enron_df.loc[:,\n",
    "                                      ['salary','bonus','long_term_incentive',\n",
    "                                      'deferred_income','deferral_payments','loan_advances',\n",
    "                                      'other','expenses','director_fees','total_payments']]\n",
    "\n",
    "\n",
    "    # Create stock dataframe\n",
    "    enron_stock_df = enron_df.loc[:,\n",
    "                                      ['exercised_stock_options','restricted_stock','restricted_stock_deferred','total_stock_value']]\n",
    "\n",
    "    # Creating finance list + poi. The objective is to do a delta from the parent enron_df and extract email related information in a data frame\n",
    "    enron_finan_list = enron_payment_df.columns.values.tolist() + enron_stock_df.columns.values.tolist() + [\"poi\"]\n",
    "    s = set(enron_finan_list)\n",
    "\n",
    "    # Create email dataframe\n",
    "    enron_email_list = [x for x in enron_df.columns.values.tolist() if x not in s]\n",
    "    enron_email_df = enron_df.loc[:,enron_email_list]\n",
    "\n",
    "    # Rearranging the columns\n",
    "    enron_email_df = enron_email_df[['email_address','from_messages','to_messages','from_this_person_to_poi','from_poi_to_this_person','shared_receipt_with_poi']]\n",
    "    \n",
    "    #Create poi dataframe\n",
    "    enron_poi_df = enron_df.loc[:,[\"poi\"]] \n",
    "    \n",
    "    print \n",
    "    print \"*********************************************************************************************************\"\n",
    "    print \"Data with values not aligned with the Column level aggregation in Total_Payments and Total_Stock_Values \"\n",
    "    print \"*********************************************************************************************************\"\n",
    "    # Validate if the payment & stock data tallies up to their corresponding Columnar total available in the dataset\n",
    "    #display(enron_payment_df[enron_payment_df.iloc[:,0:9].fillna(0).sum(axis=1) != enron_payment_df.iloc[:,9].fillna(0)])\n",
    "    #display(enron_stock_df[enron_stock_df.iloc[:,0:3].fillna(0).sum(axis=1) != enron_stock_df.iloc[:,3].fillna(0)])\n",
    "    print enron_payment_df[enron_payment_df.iloc[:,0:9].fillna(0).sum(axis=1) != enron_payment_df.iloc[:,9].fillna(0)]\n",
    "    print enron_stock_df[enron_stock_df.iloc[:,0:3].fillna(0).sum(axis=1) != enron_stock_df.iloc[:,3].fillna(0)]\n",
    "    #print enron_stock_df.iloc[:,0:3].fillna(0)\n",
    "    #print enron_stock_df.iloc[:,3].fillna(0)"
   ]
  },
  {
   "cell_type": "code",
   "execution_count": 169,
   "metadata": {},
   "outputs": [
    {
     "name": "stdout",
     "output_type": "stream",
     "text": [
      "\n",
      "*********************************************************************************************************\n",
      "Data with values not aligned with the Column level aggregation in Total_Payments and Total_Stock_Values \n",
      "*********************************************************************************************************\n",
      "                  salary  bonus  long_term_incentive  deferred_income  \\\n",
      "BELFER ROBERT        NaN    NaN                  NaN              NaN   \n",
      "BHATNAGAR SANJAY     NaN    NaN                  NaN              NaN   \n",
      "\n",
      "                  deferral_payments  loan_advances     other  expenses  \\\n",
      "BELFER ROBERT             -102500.0            NaN       NaN       NaN   \n",
      "BHATNAGAR SANJAY                NaN            NaN  137864.0       NaN   \n",
      "\n",
      "                  director_fees  total_payments  \n",
      "BELFER ROBERT            3285.0        102500.0  \n",
      "BHATNAGAR SANJAY       137864.0      15456290.0  \n",
      "                  exercised_stock_options  restricted_stock  \\\n",
      "BELFER ROBERT                      3285.0               NaN   \n",
      "BHATNAGAR SANJAY                2604490.0        -2604490.0   \n",
      "\n",
      "                  restricted_stock_deferred  total_stock_value  \n",
      "BELFER ROBERT                       44093.0           -44093.0  \n",
      "BHATNAGAR SANJAY                 15456290.0                NaN  \n"
     ]
    }
   ],
   "source": [
    "detect_anomaly()"
   ]
  },
  {
   "cell_type": "markdown",
   "metadata": {},
   "source": [
    "# Clean up Anomaly\n",
    "\n",
    "The 2 records when further compared to the pdf file source: enron61702insiderpay.pdf), it looks like the values are mismatched. This is likely a data entry error and I will fix them in my dataset"
   ]
  },
  {
   "cell_type": "code",
   "execution_count": 170,
   "metadata": {},
   "outputs": [],
   "source": [
    "''' \n",
    "Fix the anomaly detected above from the Data Frame. \n",
    "This data frame will be type casted into data dictionary for the ML alogirthme\n",
    "'''\n",
    "# Clean up BELFER ROBERT\n",
    "enron_df.at['BELFER ROBERT','deferred_income'] = -102500.0\n",
    "enron_df.at['BELFER ROBERT','deferral_payments'] = np.nan\n",
    "enron_df.at['BELFER ROBERT','expenses'] = 3285.0\n",
    "enron_df.at['BELFER ROBERT','director_fees'] = 102500.0\n",
    "enron_df.at['BELFER ROBERT','total_payments'] = 3285.0\n",
    "\n",
    "enron_df.at['BELFER ROBERT','exercised_stock_options'] = np.nan\n",
    "enron_df.at['BELFER ROBERT','restricted_stock'] = 44093.0\n",
    "enron_df.at['BELFER ROBERT','restricted_stock_deferred'] =-44093.0\n",
    "enron_df.at['BELFER ROBERT','total_stock_value'] = np.nan\n",
    "\n",
    "enron_df.loc['BELFER ROBERT']\n",
    "\n",
    "# Clean up BHATNAGAR SANJAY\n",
    "\n",
    "enron_df.at['BHATNAGAR SANJAY','other'] = np.nan\n",
    "enron_df.at['BHATNAGAR SANJAY','expenses'] = 137864.0\n",
    "enron_df.at['BHATNAGAR SANJAY','director_fees'] = np.nan\n",
    "enron_df.at['BHATNAGAR SANJAY','total_payments'] = 137864.0\n",
    "\n",
    "enron_df.at['BHATNAGAR SANJAY','exercised_stock_options'] = 15456290.0\n",
    "enron_df.at['BHATNAGAR SANJAY','restricted_stock'] = 2604490.0\n",
    "enron_df.at['BHATNAGAR SANJAY','restricted_stock_deferred'] =-2604490.0\n",
    "enron_df.at['BHATNAGAR SANJAY','total_stock_value'] = 15456290.0\n"
   ]
  },
  {
   "cell_type": "code",
   "execution_count": 171,
   "metadata": {},
   "outputs": [
    {
     "name": "stdout",
     "output_type": "stream",
     "text": [
      "\n",
      "*********************************************************************************************************\n",
      "Data with values not aligned with the Column level aggregation in Total_Payments and Total_Stock_Values \n",
      "*********************************************************************************************************\n",
      "Empty DataFrame\n",
      "Columns: [salary, bonus, long_term_incentive, deferred_income, deferral_payments, loan_advances, other, expenses, director_fees, total_payments]\n",
      "Index: []\n",
      "Empty DataFrame\n",
      "Columns: [exercised_stock_options, restricted_stock, restricted_stock_deferred, total_stock_value]\n",
      "Index: []\n"
     ]
    }
   ],
   "source": [
    "# Check now to see if the anomalies are addressed\n",
    "detect_anomaly()"
   ]
  },
  {
   "cell_type": "markdown",
   "metadata": {},
   "source": [
    "# Data Cleansing #3 = Missing Value Detection"
   ]
  },
  {
   "cell_type": "code",
   "execution_count": 172,
   "metadata": {},
   "outputs": [
    {
     "name": "stdout",
     "output_type": "stream",
     "text": [
      "\n",
      "*********************************************************************************************************\n",
      "Validate the # of columns with NULL values for each record / key \n",
      "*********************************************************************************************************\n",
      "LOCKHART EUGENE E                20\n",
      "WROBEL BRUCE                     18\n",
      "WHALEY DAVID A                   18\n",
      "GRAMM WENDY L                    18\n",
      "THE TRAVEL AGENCY IN THE PARK    18\n",
      "GILLIS JOHN                      17\n",
      "WODRASKA JOHN                    17\n",
      "SAVAGE FRANK                     17\n",
      "SCRIMSHAW MATTHEW                17\n",
      "CLINE KENNETH W                  17\n",
      "WAKEHAM JOHN                     17\n",
      "CHAN RONNIE                      16\n",
      "MENDELSOHN JOHN                  16\n",
      "PEREIRA PAULO V. FERRAZ          16\n",
      "BLAKE JR. NORMAN P               16\n",
      "YEAP SOON                        16\n",
      "GATHMANN WILLIAM D               16\n",
      "URQUHART JOHN A                  16\n",
      "FUGH JOHN L                      16\n",
      "LOWRY CHARLES P                  16\n",
      "MEYER JEROME J                   16\n",
      "WINOKUR JR. HERBERT S            16\n",
      "CHRISTODOULOU DIOMEDES           16\n",
      "NOLES JAMES L                    15\n",
      "LEMAISTRE CHARLES                15\n",
      "WALTERS GARETH W                 15\n",
      "GRAY RODNEY                      15\n",
      "BADUM JAMES P                    15\n",
      "DUNCAN JOHN H                    15\n",
      "BELFER ROBERT                    14\n",
      "                                 ..\n",
      "THORN TERENCE H                   5\n",
      "SKILLING JEFFREY K                5\n",
      "SHELBY REX                        5\n",
      "SHANKMAN JEFFREY A                5\n",
      "MURRAY JULIA H                    5\n",
      "DURAN WILLIAM D                   5\n",
      "MCCONNELL MICHAEL S               5\n",
      "MCMAHON JEFFREY                   5\n",
      "FALLON JAMES B                    5\n",
      "FITZGERALD JAY L                  5\n",
      "KOENIG MARK E                     5\n",
      "KEAN STEVEN J                     5\n",
      "GARLAND C KEVIN                   5\n",
      "GLISAN JR BEN F                   5\n",
      "LAVORATO JOHN J                   5\n",
      "RIEKER PAULA H                    4\n",
      "BELDEN TIMOTHY N                  4\n",
      "SHARP VICTORIA T                  4\n",
      "RICE KENNETH D                    4\n",
      "WASAFF GEORGE                     4\n",
      "OLSON CINDY K                     4\n",
      "HANNON KEVIN P                    4\n",
      "MULLER MARK S                     4\n",
      "BUY RICHARD B                     4\n",
      "PIPER GREGORY F                   3\n",
      "DERRICK JR. JAMES V               3\n",
      "LAY KENNETH L                     2\n",
      "HAEDICKE MARK E                   2\n",
      "FREVERT MARK A                    2\n",
      "ALLEN PHILLIP K                   2\n",
      "Length: 145, dtype: int64\n",
      "                               salary  to_messages  deferral_payments  \\\n",
      "LOCKHART EUGENE E                 NaN          NaN                NaN   \n",
      "WROBEL BRUCE                      NaN          NaN                NaN   \n",
      "WHALEY DAVID A                    NaN          NaN                NaN   \n",
      "GRAMM WENDY L                     NaN          NaN                NaN   \n",
      "THE TRAVEL AGENCY IN THE PARK     NaN          NaN                NaN   \n",
      "\n",
      "                               total_payments  exercised_stock_options  bonus  \\\n",
      "LOCKHART EUGENE E                         NaN                      NaN    NaN   \n",
      "WROBEL BRUCE                              NaN                 139130.0    NaN   \n",
      "WHALEY DAVID A                            NaN                  98718.0    NaN   \n",
      "GRAMM WENDY L                        119292.0                      NaN    NaN   \n",
      "THE TRAVEL AGENCY IN THE PARK        362096.0                      NaN    NaN   \n",
      "\n",
      "                               restricted_stock  shared_receipt_with_poi  \\\n",
      "LOCKHART EUGENE E                           NaN                      NaN   \n",
      "WROBEL BRUCE                                NaN                      NaN   \n",
      "WHALEY DAVID A                              NaN                      NaN   \n",
      "GRAMM WENDY L                               NaN                      NaN   \n",
      "THE TRAVEL AGENCY IN THE PARK               NaN                      NaN   \n",
      "\n",
      "                               restricted_stock_deferred  total_stock_value  \\\n",
      "LOCKHART EUGENE E                                    NaN                NaN   \n",
      "WROBEL BRUCE                                         NaN           139130.0   \n",
      "WHALEY DAVID A                                       NaN            98718.0   \n",
      "GRAMM WENDY L                                        NaN                NaN   \n",
      "THE TRAVEL AGENCY IN THE PARK                        NaN                NaN   \n",
      "\n",
      "                                        ...            loan_advances  \\\n",
      "LOCKHART EUGENE E                       ...                      NaN   \n",
      "WROBEL BRUCE                            ...                      NaN   \n",
      "WHALEY DAVID A                          ...                      NaN   \n",
      "GRAMM WENDY L                           ...                      NaN   \n",
      "THE TRAVEL AGENCY IN THE PARK           ...                      NaN   \n",
      "\n",
      "                               from_messages     other  \\\n",
      "LOCKHART EUGENE E                        NaN       NaN   \n",
      "WROBEL BRUCE                             NaN       NaN   \n",
      "WHALEY DAVID A                           NaN       NaN   \n",
      "GRAMM WENDY L                            NaN       NaN   \n",
      "THE TRAVEL AGENCY IN THE PARK            NaN  362096.0   \n",
      "\n",
      "                               from_this_person_to_poi    poi  director_fees  \\\n",
      "LOCKHART EUGENE E                                  NaN  False            NaN   \n",
      "WROBEL BRUCE                                       NaN  False            NaN   \n",
      "WHALEY DAVID A                                     NaN  False            NaN   \n",
      "GRAMM WENDY L                                      NaN  False       119292.0   \n",
      "THE TRAVEL AGENCY IN THE PARK                      NaN  False            NaN   \n",
      "\n",
      "                               deferred_income  long_term_incentive  \\\n",
      "LOCKHART EUGENE E                          NaN                  NaN   \n",
      "WROBEL BRUCE                               NaN                  NaN   \n",
      "WHALEY DAVID A                             NaN                  NaN   \n",
      "GRAMM WENDY L                              NaN                  NaN   \n",
      "THE TRAVEL AGENCY IN THE PARK              NaN                  NaN   \n",
      "\n",
      "                               email_address from_poi_to_this_person  \n",
      "LOCKHART EUGENE E                        NaN                     NaN  \n",
      "WROBEL BRUCE                             NaN                     NaN  \n",
      "WHALEY DAVID A                           NaN                     NaN  \n",
      "GRAMM WENDY L                            NaN                     NaN  \n",
      "THE TRAVEL AGENCY IN THE PARK            NaN                     NaN  \n",
      "\n",
      "[5 rows x 21 columns]\n"
     ]
    }
   ],
   "source": [
    "# Validate if there are any records with lots of NULL values that may not be useful\n",
    "print\n",
    "print \"*********************************************************************************************************\"\n",
    "print \"Validate the # of columns with NULL values for each record / key \"\n",
    "print \"*********************************************************************************************************\"\n",
    "\n",
    "print enron_df.isnull().sum(axis=1).sort_values(ascending=False)\n",
    "print enron_df.loc[['LOCKHART EUGENE E','WROBEL BRUCE','WHALEY DAVID A','GRAMM WENDY L','THE TRAVEL AGENCY IN THE PARK']]\n",
    "\n",
    "# LOCKHART EUGENE E has all of the financial and email related columns as NULL and furthere he is a non poi and hence could be scrubbed from the study\n",
    "try:\n",
    "    enron_df = enron_df.drop('LOCKHART EUGENE E')\n",
    "except ValueError:\n",
    "    pass    "
   ]
  },
  {
   "cell_type": "markdown",
   "metadata": {},
   "source": [
    "# 2) Feature Selection \n",
    "\n",
    "a) My plan is to initially use all the features (except the email address) as is and build 3 models based on GaussianNB, Decision Tree Classifier and KMeans respectively and to arrive at the evaluation. This will server as the baseline for performance of the algorithm.\n",
    "\n",
    "b) The next step would be to engineer new features and to determine K Best features based on their relevance to the output labels that are to be predicted.\n",
    "\n",
    "c) The third and final step is to pick the better performing algorithm from above steps and tuning the hyperparameters to improve the results as needed.\n",
    "\n"
   ]
  },
  {
   "cell_type": "markdown",
   "metadata": {},
   "source": [
    "# 2a) Feature Selection - Performance Baseline\n",
    "The idea is to use all of the existing features except email and determine the performance to serve as a baseline."
   ]
  },
  {
   "cell_type": "code",
   "execution_count": 201,
   "metadata": {},
   "outputs": [],
   "source": [
    "features_list_org_all = ['poi','salary', 'to_messages', 'deferral_payments', 'total_payments', 'exercised_stock_options', 'bonus',\n",
    " 'restricted_stock', 'shared_receipt_with_poi', 'restricted_stock_deferred', 'total_stock_value', 'expenses',\n",
    " 'loan_advances', 'from_messages', 'other', 'from_this_person_to_poi', 'director_fees', 'deferred_income',\n",
    " 'long_term_incentive',\n",
    " 'from_poi_to_this_person']"
   ]
  },
  {
   "cell_type": "code",
   "execution_count": 202,
   "metadata": {},
   "outputs": [],
   "source": [
    "# Replacing the numpy.nan to 'NaN' as the feature format function scrubs the NaN (string) from the numerical field \n",
    "# handled in the following funtion -> featureFormat( dictionary, features, remove_NaN=True, remove_all_zeroes=True, remove_any_zeroes=False, sort_keys = False):\n",
    "enron_df = enron_df.replace(np.nan,'NaN')\n",
    "my_dataset = enron_df.to_dict('index')\n",
    "\n",
    "# Resetting the 'Nan' back to numpy.nan in enron_df\n",
    "enron_df = enron_df.replace('NaN', np.nan)\n"
   ]
  },
  {
   "cell_type": "code",
   "execution_count": 203,
   "metadata": {},
   "outputs": [
    {
     "name": "stdout",
     "output_type": "stream",
     "text": [
      "\n",
      "*********************************************************************************************************\n",
      "Model Evaluation - Baseline Performance before any New engineered features / Feature Selection / Tuning\n",
      "*********************************************************************************************************\n",
      "GaussianNB(priors=None)\n",
      "\tAccuracy: 0.76980\tPrecision: 0.25448\tRecall: 0.37650\tF1: 0.30369\tF2: 0.34355\n",
      "\tTotal predictions: 15000\tTrue positives:  753\tFalse positives: 2206\tFalse negatives: 1247\tTrue negatives: 10794\n",
      "\n",
      "*********************************************************************************************************\n",
      "DecisionTreeClassifier(class_weight=None, criterion='gini', max_depth=None,\n",
      "            max_features=None, max_leaf_nodes=None,\n",
      "            min_impurity_decrease=0.0, min_impurity_split=None,\n",
      "            min_samples_leaf=1, min_samples_split=2,\n",
      "            min_weight_fraction_leaf=0.0, presort=False, random_state=None,\n",
      "            splitter='best')\n",
      "\tAccuracy: 0.80033\tPrecision: 0.23467\tRecall: 0.22000\tF1: 0.22710\tF2: 0.22278\n",
      "\tTotal predictions: 15000\tTrue positives:  440\tFalse positives: 1435\tFalse negatives: 1560\tTrue negatives: 11565\n",
      "\n",
      "*********************************************************************************************************\n",
      "KMeans(algorithm='auto', copy_x=True, init='k-means++', max_iter=300,\n",
      "    n_clusters=2, n_init=10, n_jobs=1, precompute_distances='auto',\n",
      "    random_state=None, tol=0.0001, verbose=0)\n",
      "\tAccuracy: 0.83447\tPrecision: 0.23017\tRecall: 0.10300\tF1: 0.14231\tF2: 0.11580\n",
      "\tTotal predictions: 15000\tTrue positives:  206\tFalse positives:  689\tFalse negatives: 1794\tTrue negatives: 12311\n",
      "\n",
      "*********************************************************************************************************\n"
     ]
    }
   ],
   "source": [
    "print \n",
    "print \"*********************************************************************************************************\"\n",
    "print \"Model Evaluation - Baseline Performance before any New engineered features / Feature Selection / Tuning\"\n",
    "print \"*********************************************************************************************************\"\n",
    "\n",
    "#data = featureFormat(my_dataset, features_list, sort_keys = True)\n",
    "#labels, features = targetFeatureSplit(data)\n",
    "\n",
    "\n",
    "# Create and test the Gaussian Naive Bayes Classifier\n",
    "clf = GaussianNB()\n",
    "tester.dump_classifier_and_data(clf, my_dataset, features_list_org_all)\n",
    "tester.main();\n",
    "\n",
    "print \"*********************************************************************************************************\"\n",
    "\n",
    "# Create and test the Decision Tree Classifier\n",
    "clf = DecisionTreeClassifier()\n",
    "tester.dump_classifier_and_data(clf, my_dataset, features_list_org_all)\n",
    "tester.main();\n",
    "\n",
    "print \"*********************************************************************************************************\"\n",
    "\n",
    "# Create and test the K Means clustering classifier\n",
    "clf = KMeans(n_clusters=2)\n",
    "tester.dump_classifier_and_data(clf, my_dataset, features_list_org_all)\n",
    "tester.main();\n",
    "\n",
    "print \"*********************************************************************************************************\""
   ]
  },
  {
   "cell_type": "markdown",
   "metadata": {},
   "source": [
    "# 2b) Feature Selection - Engineer new Features:\n",
    "The choice of new features are \n",
    "(a) ratio of financial earnings (total earning, payments, stock) as they may be good indicator for identifying POI\n",
    "(b) ratio of email exchanges that the employee had with the POI. The thought process is that POI is more tightly knit group and may have had frequent email correspondences with each other.\n"
   ]
  },
  {
   "cell_type": "code",
   "execution_count": 204,
   "metadata": {},
   "outputs": [],
   "source": [
    "# Calculate the below 5 features:\n",
    "\n",
    "enron_df['ratio_of_total_earning']=(enron_df['total_payments'].fillna(0)+ enron_df['total_stock_value'] .fillna(0))/enron_df ['total_payments'].fillna(0.0).sum() + enron_df ['total_stock_value'].fillna(0.0).sum()\n",
    "enron_df['ratio_of_total_payments']=enron_df['total_payments'].fillna(0) /enron_df ['total_payments'].fillna(0.0).sum()\n",
    "enron_df['ratio_of_total_stock']=enron_df['total_stock_value'].fillna(0)/ enron_df ['total_stock_value'].fillna(0.0).sum()\n",
    "enron_df['ratio_from_poi'] = enron_df['from_poi_to_this_person'] / enron_df['to_messages']\n",
    "enron_df['ratio_to_poi'] = enron_df['from_this_person_to_poi'] / enron_df['from_messages']\n"
   ]
  },
  {
   "cell_type": "code",
   "execution_count": 205,
   "metadata": {},
   "outputs": [],
   "source": [
    "features_list_eng_all = ['poi','salary', 'to_messages', 'deferral_payments', 'total_payments', 'exercised_stock_options', 'bonus',\n",
    " 'restricted_stock', 'shared_receipt_with_poi', 'restricted_stock_deferred', 'total_stock_value', 'expenses',\n",
    " 'loan_advances', 'from_messages', 'other', 'from_this_person_to_poi', 'director_fees', 'deferred_income',\n",
    " 'long_term_incentive',\n",
    " 'from_poi_to_this_person',\n",
    " 'ratio_of_total_earning',\n",
    " 'ratio_of_total_payments',\n",
    " 'ratio_of_total_stock',\n",
    " 'ratio_from_poi','ratio_to_poi']"
   ]
  },
  {
   "cell_type": "code",
   "execution_count": 206,
   "metadata": {},
   "outputs": [],
   "source": [
    "# reset the nan to 'Nan' before converting the df to dict\n",
    "\n",
    "enron_df = enron_df.replace(np.nan,'NaN')\n",
    "my_dataset = enron_df.to_dict('index')"
   ]
  },
  {
   "cell_type": "markdown",
   "metadata": {},
   "source": [
    "# 2c) Feature Selection - SelectKBest\n",
    "\n",
    "I intend to use SelectKBestselection function. SelectKBest works by selecting the Top K features that have maximum influence on the target variable. It takes 2 inputs i.e. features and lables and takes the K features and evaluates the relevance of every feature using the score function."
   ]
  },
  {
   "cell_type": "code",
   "execution_count": 230,
   "metadata": {},
   "outputs": [
    {
     "name": "stdout",
     "output_type": "stream",
     "text": [
      "*********************************************************************************************************\n",
      "Feature Selection with Engineered Features\n",
      "*********************************************************************************************************\n",
      "\n",
      "Total list of Features ['poi', 'salary', 'to_messages', 'deferral_payments', 'total_payments', 'exercised_stock_options', 'bonus', 'restricted_stock', 'shared_receipt_with_poi', 'restricted_stock_deferred', 'total_stock_value', 'expenses', 'loan_advances', 'from_messages', 'other', 'from_this_person_to_poi', 'director_fees', 'deferred_income', 'long_term_incentive', 'from_poi_to_this_person', 'ratio_of_total_earning', 'ratio_of_total_payments', 'ratio_of_total_stock', 'ratio_from_poi', 'ratio_to_poi']\n",
      "\n",
      "SelectKBest scores:  [(22.78210782973431, 'total_stock_value'), (22.782107829734304, 'ratio_of_total_stock'), (22.61053070687377, 'exercised_stock_options'), (21.06000170753657, 'bonus'), (18.575703268041785, 'salary'), (16.64170707046899, 'ratio_to_poi'), (11.561887713503024, 'deferred_income'), (10.072454529369441, 'long_term_incentive'), (9.380236796811587, 'total_payments'), (9.380236796811587, 'ratio_of_total_payments')]\n",
      "\n",
      "KBest Features ['poi', 'total_stock_value', 'ratio_of_total_stock', 'exercised_stock_options', 'bonus', 'salary', 'ratio_to_poi', 'deferred_income', 'long_term_incentive', 'total_payments', 'ratio_of_total_payments']\n"
     ]
    }
   ],
   "source": [
    "\n",
    "data = featureFormat(my_dataset, features_list_eng_all, sort_keys = True)\n",
    "labels, features = targetFeatureSplit(data)\n",
    "\n",
    "# Perform feature selection\n",
    "selector = SelectKBest(f_classif, k='all')\n",
    "selector.fit(features, labels)\n",
    "kbest_scores = sorted(zip(selector.scores_, features_list_eng_all[1:]), reverse=True)\n",
    "\n",
    "# picking Top 12 features for the ML alogorithm:\n",
    "\n",
    "POI_label = ['poi']\n",
    "#features_list_all = features_list\n",
    "features_list_kbest= POI_label + [(i[1]) for i in kbest_scores[0:10]]\n",
    "\n",
    "print \"*********************************************************************************************************\"\n",
    "print \"Feature Selection with Engineered Features\"\n",
    "print \"*********************************************************************************************************\"\n",
    "\n",
    "print\n",
    "print 'Total list of Features',features_list_eng_all\n",
    "\n",
    "print\n",
    "print 'SelectKBest scores: ', kbest_scores[0:10]\n",
    "print\n",
    "print 'KBest Features',features_list_kbest\n"
   ]
  },
  {
   "cell_type": "markdown",
   "metadata": {},
   "source": [
    "# 2d) Feature Engineering & Feature selection using KBest Features - Performance"
   ]
  },
  {
   "cell_type": "code",
   "execution_count": 217,
   "metadata": {},
   "outputs": [
    {
     "name": "stdout",
     "output_type": "stream",
     "text": [
      "\n",
      "*********************************************************************************************************\n",
      "Model Evaluation - Performance with new engineered features / Feature Selection - Before any Tuning\n",
      "*********************************************************************************************************\n",
      "*********************************************************************************************************\n",
      "DecisionTreeClassifier(class_weight=None, criterion='gini', max_depth=None,\n",
      "            max_features=None, max_leaf_nodes=None,\n",
      "            min_impurity_decrease=0.0, min_impurity_split=None,\n",
      "            min_samples_leaf=1, min_samples_split=2,\n",
      "            min_weight_fraction_leaf=0.0, presort=False, random_state=None,\n",
      "            splitter='best')\n",
      "\tAccuracy: 0.80680\tPrecision: 0.28033\tRecall: 0.28650\tF1: 0.28338\tF2: 0.28524\n",
      "\tTotal predictions: 15000\tTrue positives:  573\tFalse positives: 1471\tFalse negatives: 1427\tTrue negatives: 11529\n",
      "\n",
      "*********************************************************************************************************\n",
      "KMeans(algorithm='auto', copy_x=True, init='k-means++', max_iter=300,\n",
      "    n_clusters=2, n_init=10, n_jobs=1, precompute_distances='auto',\n",
      "    random_state=None, tol=0.0001, verbose=0)\n",
      "\tAccuracy: 0.84800\tPrecision: 0.25862\tRecall: 0.07500\tF1: 0.11628\tF2: 0.08741\n",
      "\tTotal predictions: 15000\tTrue positives:  150\tFalse positives:  430\tFalse negatives: 1850\tTrue negatives: 12570\n",
      "\n",
      "GaussianNB(priors=None)\n",
      "\tAccuracy: 0.85487\tPrecision: 0.44212\tRecall: 0.33800\tF1: 0.38311\tF2: 0.35471\n",
      "\tTotal predictions: 15000\tTrue positives:  676\tFalse positives:  853\tFalse negatives: 1324\tTrue negatives: 12147\n",
      "\n"
     ]
    }
   ],
   "source": [
    "\n",
    "print \n",
    "print \"*********************************************************************************************************\"\n",
    "print \"Model Evaluation - Performance with new engineered features / Feature Selection - Before any Tuning\"\n",
    "print \"*********************************************************************************************************\"\n",
    "\n",
    "\n",
    "print \"*********************************************************************************************************\"\n",
    "\n",
    "# Create and test the Decision Tree Classifier\n",
    "clf = DecisionTreeClassifier()\n",
    "tester.dump_classifier_and_data(clf, my_dataset, features_list_kbest)\n",
    "tester.main();\n",
    "\n",
    "print \"*********************************************************************************************************\"\n",
    "\n",
    "# Create and test the K Means clustering classifier\n",
    "clf = KMeans(n_clusters=2)\n",
    "tester.dump_classifier_and_data(clf, my_dataset, features_list_kbest)\n",
    "tester.main();\n",
    "\n",
    "# Create and test the Gaussian Naive Bayes Classifier\n",
    "clf = GaussianNB()\n",
    "tester.dump_classifier_and_data(clf, my_dataset, features_list_kbest)\n",
    "tester.main();\n"
   ]
  },
  {
   "cell_type": "markdown",
   "metadata": {},
   "source": [
    "#  2) Feature Selection - Observations: \n",
    "By comparing the above results with the baseline performance below are the observations:\n",
    "1) Gaussian NB is clearly performing better \n",
    "2) Newly engineered features helped the classifier performance\n",
    "3) Also, selecting the K best festures and using them for the classification improved the F1 score in comparison to the baseline model evaluation.\n",
    "Kmeans model evaluated the least and hence I am proceeding with the GaussianNB and DecistionTreeClassifier based models and tune them further to arrive at a final model\t\t\n"
   ]
  },
  {
   "cell_type": "markdown",
   "metadata": {},
   "source": [
    "# 3) Feature Scaling & Algorithm Selection:\n",
    "Although the dataset consists of wide range of values particularly the financial data, featue scaling is more relevant to the algorithm such as Kmeans that use the Eucledian distance between two data point. For the algorithm that I chose to implement i.e. the Gaussian NB and DecisionTree Classifer this would not have much impact. Nonetheless, I am implementing Min Max feature scaling as I am looking to determine if this makes any difference to the evaluation metrics of the algorithm that I have chosen."
   ]
  },
  {
   "cell_type": "markdown",
   "metadata": {},
   "source": [
    "# 4) Parameter Tuning & Validation:\n",
    "\n",
    "<U> Tuning:</U>\n",
    "Parameter tuning essentially is the process to maximize the models performance while striking a balanace between  overfitting and high variance.The tuning of the hyperparameters could be achieved in a manual way or in an automated manner. I chose the GridSearchCV route to tune the models that I had chosen based on the resuls from Feature Selection. The algorithm are namely: DecisionTreeClassifier and GaussianNB\n",
    "\n",
    "The essential idea is to contruct a pipleline of Scaler (MinMaxScaler()), PCA and Hyperparameters grid (in case of DecisionTreeClassifier) to tune different combinations of the models.\n",
    "\n",
    "<U> Validation:</U>\n",
    "Validation is necessary to ensure that the developed model is just as useful and applicable to the \"real world data\" not just with the data that was used to train the algorithm. For the current problem at hand, the data points is relatively a smaller set, thereyby it is beneficial to iteratively draw and split the test/train data and valdiate the model against the several folds of the data. This makes the StratifiedShuffleSplit a suitable validation strategy.\n",
    "\n",
    "I have used the startup code utility i.e. tester.test_classifier that was provided by udacity towards this putpose of evaluating the metrics. For my analysis purpose, i had reused the code from tester.test_classifier and created a local function called ptest_classifier The only change that I had done to the ptest_classifer function is to reduce the folds from 1000 to 10 to tradeoff execution time and speed."
   ]
  },
  {
   "cell_type": "markdown",
   "metadata": {},
   "source": [
    "# 5) Evaluation Metrics:\n",
    "\n",
    "Here the problem at hand is to classify or categorize based on the features if the employee in the dataset is a POI or a non POI. From the underlying data we have  POI =  18 & non-POI =  128. The observations are imbalanced. Hence for the model to accurately label a non-POI as non POI is not particularly useful as it a likely occurence. This rules out the Accuracy metric unsuitable for a the imbalanced classes such as our problem here.\n",
    "\n",
    "\n",
    "Precision is the ratio of total number of True Positive to the total number of True Positive + False Postives. This answers the question - if the algorithm predicts a person as POI, how likely that the person is really a POI.\n",
    "\n",
    "while Recall is the ratio of total number of True Positive to the total number of True Positive + False Negative. This answers the question - how many times the algorithm identified a POI correctly,  provided that the person is indeed a POI\n",
    "\n",
    "Precision and Recall are more insightful to our classification here as the measure of high accuracy of Non-Poi is not really helpful. Instead, the ability to classify a POI as a POI is more meaningful.\n",
    "\n",
    "For evaluating of my algorithm, I am going with the F1 score which is the harmonic measure of precision and recall and is mathematically computed as \n",
    "2 * ( ( precision * recall) / (precision + recall) )\n",
    "\n"
   ]
  },
  {
   "cell_type": "code",
   "execution_count": 191,
   "metadata": {},
   "outputs": [],
   "source": [
    "\"\"\" This function is based on tester.test_classifier that is provided as a part of start up code. \n",
    "The only change I have done here is to keep the folds to 10 rather than 1000 to trade off the execution time\"\"\"\n",
    "\n",
    "def ptest_classifier(clf, dataset, feature_list, folds = 1000):\n",
    "\n",
    "    import sys\n",
    "    from sklearn.cross_validation import StratifiedShuffleSplit\n",
    "    sys.path.append(\"../tools/\")\n",
    "    from feature_format import featureFormat, targetFeatureSplit\n",
    "    PERF_FORMAT_STRING = \"\\\n",
    "    \\tAccuracy: {:>0.{display_precision}f}\\tPrecision: {:>0.{display_precision}f}\\t\\\n",
    "    Recall: {:>0.{display_precision}f}\\tF1: {:>0.{display_precision}f}\\tF2: {:>0.{display_precision}f}\"\n",
    "    RESULTS_FORMAT_STRING = \"\\tTotal predictions: {:4d}\\tTrue positives: {:4d}\\tFalse positives: {:4d}\\\n",
    "    \\tFalse negatives: {:4d}\\tTrue negatives: {:4d}\"\n",
    "\n",
    "    data = featureFormat(dataset, feature_list, sort_keys = True)\n",
    "    labels, features = targetFeatureSplit(data)\n",
    "    #  class sklearn.cross_validation.StratifiedShuffleSplit\n",
    "    # (y, n_iter=10, test_size=0.1, train_size=None, random_state=None)\n",
    "    cv = StratifiedShuffleSplit(labels, folds, random_state = 42)\n",
    "\n",
    "    true_negatives = 0\n",
    "    false_negatives = 0\n",
    "    true_positives = 0\n",
    "    false_positives = 0\n",
    "    for train_idx, test_idx in cv: \n",
    "        features_train = []\n",
    "        features_test  = []\n",
    "        labels_train   = []\n",
    "        labels_test    = []\n",
    "        for ii in train_idx:\n",
    "            features_train.append( features[ii] )\n",
    "            labels_train.append( labels[ii] )\n",
    "        for jj in test_idx:\n",
    "            features_test.append( features[jj] )\n",
    "            labels_test.append( labels[jj] )\n",
    "        \n",
    "        ### fit the classifier using training set, and test on test set\n",
    "        clf.fit(features_train, labels_train)\n",
    "        predictions = clf.predict(features_test)\n",
    " \n",
    "        for prediction, truth in zip(predictions, labels_test):\n",
    "            if prediction == 0 and truth == 0:\n",
    "                true_negatives += 1\n",
    "            elif prediction == 0 and truth == 1:\n",
    "                false_negatives += 1\n",
    "            elif prediction == 1 and truth == 0:\n",
    "                false_positives += 1\n",
    "            elif prediction == 1 and truth == 1:\n",
    "                true_positives += 1\n",
    "            else:\n",
    "                print \"Warning: Found a predicted label not == 0 or 1.\"\n",
    "                print \"All predictions should take value 0 or 1.\"\n",
    "                print \"Evaluating performance for processed predictions:\"\n",
    "                break\n",
    "    try:\n",
    "        total_predictions = true_negatives + false_negatives + false_positives + true_positives\n",
    "        accuracy = 1.0*(true_positives + true_negatives)/total_predictions\n",
    "        precision = 1.0*true_positives/(true_positives+false_positives)\n",
    "        recall = 1.0*true_positives/(true_positives+false_negatives)\n",
    "        f1 = 2.0 * true_positives/(2*true_positives + false_positives+false_negatives)\n",
    "        f2 = (1+2.0*2.0) * precision*recall/(4*precision + recall)\n",
    "        print clf\n",
    "        print PERF_FORMAT_STRING.format(accuracy, precision, recall, f1, f2, display_precision = 5)\n",
    "        print RESULTS_FORMAT_STRING.format(total_predictions, true_positives, false_positives, false_negatives, true_negatives)\n",
    "        print \"\"\n",
    "        #print '*******************************'\n",
    "        #print clf.best_estimator_.feature_importances_\n",
    "        #print '*******************************'        \n",
    "        \n",
    "    except:\n",
    "        print \"Got a divide by zero when trying out:\", clf\n",
    "        print \"Precision or recall may be undefined due to a lack of true positive predicitons.\""
   ]
  },
  {
   "cell_type": "markdown",
   "metadata": {},
   "source": [
    "# Performance Tuning and Validation of GaussianNB model with PCA"
   ]
  },
  {
   "cell_type": "code",
   "execution_count": 210,
   "metadata": {},
   "outputs": [
    {
     "name": "stdout",
     "output_type": "stream",
     "text": [
      "\n",
      "*********************************************************************************************************************************\n",
      "Model Evaluation - Performance with new engineered features / Feature Selection / Tuning using StratifiedShuffleSplit\n",
      "*********************************************************************************************************************************\n",
      "GaussianNB Model Evaluation - with MinMaxScaler,SelectKBest & PCA using StratifiedShuffleSplit\n",
      "GridSearchCV(cv=None, error_score='raise',\n",
      "       estimator=Pipeline(memory=None,\n",
      "     steps=[('scaler', MinMaxScaler(copy=True, feature_range=(0, 1))), ('selector', SelectKBest(k=10, score_func=<function f_classif at 0x000000001A08E6D8>)), ('reducer', PCA(copy=True, iterated_power='auto', n_components=None, random_state=42,\n",
      "  svd_solver='auto', tol=0.0, whiten=False)), ('classifier', GaussianNB(priors=None))]),\n",
      "       fit_params={}, iid=True, n_jobs=1,\n",
      "       param_grid={'reducer__n_components': [1, 2, 6, 10], 'selector__k': [10, 15, 'all'], 'scaler': [None, MinMaxScaler(copy=True, feature_range=(0, 1))]},\n",
      "       pre_dispatch='2*n_jobs', refit=True, scoring='f1', verbose=0)\n",
      "\tAccuracy: 0.84247\tPrecision: 0.36723\tRecall: 0.25100\tF1: 0.29819\tF2: 0.26796\n",
      "\tTotal predictions: 15000\tTrue positives:  502\tFalse positives:  865\tFalse negatives: 1498\tTrue negatives: 12135\n",
      "\n"
     ]
    }
   ],
   "source": [
    "print \n",
    "print \"*********************************************************************************************************************************\"\n",
    "print \"Model Evaluation - Performance with new engineered features / Feature Selection / Tuning using StratifiedShuffleSplit\"\n",
    "print \"*********************************************************************************************************************************\"\n",
    "\n",
    "\n",
    "print \"GaussianNB Model Evaluation - with MinMaxScaler,SelectKBest & PCA using StratifiedShuffleSplit\"\n",
    "\n",
    "pipe = Pipeline([\n",
    "        ('scaler', preprocessing.MinMaxScaler()),\n",
    "        ('selector', SelectKBest()),\n",
    "        ('reducer', PCA(random_state=42)),\n",
    "        ('classifier', GaussianNB())\n",
    "    ])\n",
    "\n",
    "param_grid = {\n",
    "    'scaler': [None, preprocessing.MinMaxScaler()],\n",
    "    'selector__k': [10, 15, 'all'],\n",
    "    'reducer__n_components': [1,2,6,10]\n",
    "}\n",
    "\n",
    "clf_gnb_grd = GridSearchCV(pipe, param_grid, scoring='f1')\n",
    "#ptest_classifier(clf_gnb_grd, my_dataset, features_list_all)\n",
    "tester.dump_classifier_and_data(clf_gnb_grd, my_dataset, features_list_eng_all)\n",
    "tester.main();\n"
   ]
  },
  {
   "cell_type": "markdown",
   "metadata": {},
   "source": [
    "# Performance Tuning and Validation of GaussianNB model without PCA"
   ]
  },
  {
   "cell_type": "code",
   "execution_count": 221,
   "metadata": {},
   "outputs": [
    {
     "name": "stdout",
     "output_type": "stream",
     "text": [
      "*********************************************************************************************************************************\n",
      "GaussianNB Model Evaluation - with MinMaxScaler,SelectKBest & without PCA using StratifiedShuffleSplit\n",
      "*********************************************************************************************************************************\n",
      "GridSearchCV(cv=None, error_score='raise',\n",
      "       estimator=Pipeline(memory=None,\n",
      "     steps=[('scaler', MinMaxScaler(copy=True, feature_range=(0, 1))), ('selector', SelectKBest(k=10, score_func=<function f_classif at 0x000000001A08E6D8>)), ('classifier', GaussianNB(priors=None))]),\n",
      "       fit_params={}, iid=True, n_jobs=1,\n",
      "       param_grid={'selector__k': [10, 15, 'all'], 'scaler': [None, MinMaxScaler(copy=True, feature_range=(0, 1))]},\n",
      "       pre_dispatch='2*n_jobs', refit=True, scoring='f1', verbose=0)\n",
      "\tAccuracy: 0.81087\tPrecision: 0.30544\tRecall: 0.32850\tF1: 0.31655\tF2: 0.32361\n",
      "\tTotal predictions: 15000\tTrue positives:  657\tFalse positives: 1494\tFalse negatives: 1343\tTrue negatives: 11506\n",
      "\n",
      "\n",
      "*********************************************************************************************************************************\n",
      "GaussianNB parameters\n",
      "{'scoring': 'f1', 'estimator__scaler__feature_range': (0, 1), 'n_jobs': 1, 'refit': True, 'verbose': 0, 'fit_params': {}, 'estimator__selector__score_func': <function f_classif at 0x000000001A08E6D8>, 'estimator__memory': None, 'estimator__scaler': MinMaxScaler(copy=True, feature_range=(0, 1)), 'estimator__classifier': GaussianNB(priors=None), 'estimator__classifier__priors': None, 'iid': True, 'estimator__selector__k': 10, 'estimator': Pipeline(memory=None,\n",
      "     steps=[('scaler', MinMaxScaler(copy=True, feature_range=(0, 1))), ('selector', SelectKBest(k=10, score_func=<function f_classif at 0x000000001A08E6D8>)), ('classifier', GaussianNB(priors=None))]), 'estimator__steps': [('scaler', MinMaxScaler(copy=True, feature_range=(0, 1))), ('selector', SelectKBest(k=10, score_func=<function f_classif at 0x000000001A08E6D8>)), ('classifier', GaussianNB(priors=None))], 'error_score': 'raise', 'estimator__selector': SelectKBest(k=10, score_func=<function f_classif at 0x000000001A08E6D8>), 'estimator__scaler__copy': True, 'param_grid': {'selector__k': [10, 15, 'all'], 'scaler': [None, MinMaxScaler(copy=True, feature_range=(0, 1))]}, 'cv': None, 'pre_dispatch': '2*n_jobs'}\n",
      "*********************************************************************************************************************************\n"
     ]
    },
    {
     "data": {
      "text/plain": [
       "'\\nprint\\nprint \"*********************************************************************************************************************************\"\\nprint \"Features and the Feature score of the final model\" \\ngt_kbest_scores = sorted(zip(selector.scores_, features_list_eng_all[:10]), reverse=True)\\nprint gt_kbest_scores\\nprint \"*********************************************************************************************************************************\"\\n\\n'"
      ]
     },
     "execution_count": 221,
     "metadata": {},
     "output_type": "execute_result"
    }
   ],
   "source": [
    "print \"*********************************************************************************************************************************\"\n",
    "print \"GaussianNB Model Evaluation - with MinMaxScaler,SelectKBest & without PCA using StratifiedShuffleSplit\"\n",
    "print \"*********************************************************************************************************************************\"\n",
    "\n",
    "pipe = Pipeline([\n",
    "        ('scaler', preprocessing.MinMaxScaler()),\n",
    "        (\"selector\", SelectKBest()),\n",
    "        ('classifier', GaussianNB())\n",
    "    ])\n",
    "\n",
    "param_grid = {\n",
    "    'scaler': [None, preprocessing.MinMaxScaler()],\n",
    "    'selector__k': [10, 15, 'all']\n",
    "}\n",
    "\n",
    "clf_gnb_grd = GridSearchCV(pipe, param_grid, scoring='f1')\n",
    "#ptest_classifier(clf_gnb_grd, my_dataset, features_list_all)\n",
    "tester.dump_classifier_and_data(clf_gnb_grd, my_dataset, features_list_eng_all)\n",
    "tester.main();\n",
    "\n",
    "## Features and the Feature score of the final model\n",
    "print \n",
    "print \"*********************************************************************************************************************************\"\n",
    "print \"GaussianNB parameters\"\n",
    "print clf_gnb_grd.get_params()\n",
    "print \"*********************************************************************************************************************************\"\n",
    "\n",
    "'''\n",
    "print\n",
    "print \"*********************************************************************************************************************************\"\n",
    "print \"Features and the Feature score of the final model\" \n",
    "gt_kbest_scores = sorted(zip(selector.scores_, features_list_eng_all[:10]), reverse=True)\n",
    "print gt_kbest_scores\n",
    "print \"*********************************************************************************************************************************\"\n",
    "\n",
    "'''\n",
    "\n"
   ]
  },
  {
   "cell_type": "markdown",
   "metadata": {},
   "source": [
    "# Performance Tuning and Validation of DecisionTree model"
   ]
  },
  {
   "cell_type": "code",
   "execution_count": 213,
   "metadata": {
    "scrolled": true
   },
   "outputs": [
    {
     "name": "stdout",
     "output_type": "stream",
     "text": [
      "*********************************************************************************************************************************\n",
      "DecisionTreeClassifier Model Evaluation - with MinMaxScaler,SelectKBest & PCA using StratifiedShuffleSplit\n",
      "*********************************************************************************************************************************\n",
      "Pipeline(memory=None,\n",
      "     steps=[('scaler', MinMaxScaler(copy=True, feature_range=(0, 1))), ('selector', SelectKBest(k=15, score_func=<function f_classif at 0x000000001A08E6D8>)), ('reducer', PCA(copy=True, iterated_power='auto', n_components=6, random_state=42,\n",
      "  svd_solver='auto', tol=0.0, whiten=False)), ('classifier', De...      min_weight_fraction_leaf=0.0, presort=False, random_state=None,\n",
      "            splitter='best'))])\n",
      "\tAccuracy: 0.79673\tPrecision: 0.22056\tRecall: 0.20700\tF1: 0.21357\tF2: 0.20958\n",
      "\tTotal predictions: 15000\tTrue positives:  414\tFalse positives: 1463\tFalse negatives: 1586\tTrue negatives: 11537\n",
      "\n",
      "\n",
      "*********************************************************************************************************************************\n",
      "Features and the Feature score of the final model\n",
      "*********************************************************************************************************************************\n",
      "[('ratio_of_total_payments', 22.782107829734304), ('salary', 22.610530706873778), ('ratio_to_poi', 21.06000170753658), ('total_stock_value', 18.575703268041778), ('bonus', 9.380236796811595), ('deferred_income', 8.958540049080092), ('long_term_incentive', 8.74648553212908), ('ratio_of_total_stock', 1.6988243485808538), ('total_payments', 0.761863314557665), ('exercised_stock_options', 0.22121448377482592)]\n"
     ]
    }
   ],
   "source": [
    "print \"*********************************************************************************************************************************\"\n",
    "print \"DecisionTreeClassifier Model Evaluation - with MinMaxScaler,SelectKBest & PCA using StratifiedShuffleSplit\"\n",
    "print \"*********************************************************************************************************************************\"\n",
    "\n",
    "CRITERION = ['gini', 'entropy']\n",
    "SPLITTER = ['best', 'random']\n",
    "MIN_SAMPLES_SPLIT = [2, 4, 6, 8]\n",
    "CLASS_WEIGHT = ['balanced', None]\n",
    "\n",
    "\n",
    "pipe = Pipeline([\n",
    "        ('scaler', preprocessing.MinMaxScaler()),\n",
    "        (\"selector\", SelectKBest()),\n",
    "        ('reducer', PCA(random_state=42)),\n",
    "        ('classifier', DecisionTreeClassifier())\n",
    "    ])\n",
    "\n",
    "param_grid = {\n",
    "    'scaler': [None, preprocessing.MinMaxScaler()],\n",
    "    'selector__k': [10, 15, 'all'],\n",
    "    'reducer__n_components': [1,2,6,10],\n",
    "    'classifier__criterion': CRITERION,\n",
    "    'classifier__splitter': SPLITTER,\n",
    "    'classifier__min_samples_split': MIN_SAMPLES_SPLIT,\n",
    "    'classifier__class_weight': CLASS_WEIGHT,\n",
    "}\n",
    "\n",
    "clf_dt_grd = GridSearchCV(pipe, param_grid, scoring='f1').fit(features, labels).best_estimator_\n",
    "# ptest_classifier(clf_dt_grd, my_dataset, features_list_eng_all)\n",
    "\n",
    "tester.dump_classifier_and_data(clf_dt_grd, my_dataset, features_list_eng_all)\n",
    "tester.main();\n",
    "\n",
    "'''\n",
    "print\n",
    "print \"*********************************************************************************************************************************\"\n",
    "print \"Features and the Feature score of the final model\" \n",
    "print \"*********************************************************************************************************************************\"\n",
    "dt_features_list_imp = features_list_eng_all[1:]\n",
    "feature_scores = sorted({dt_features_list_imp[i]:clf_dt_grd.get_params()['selector'].scores_[i]\n",
    "                         for i in range(0,len(dt_features_list_imp))}.items(), reverse=True, key=operator.itemgetter(1))\n",
    "print feature_scores\n",
    "'''"
   ]
  },
  {
   "cell_type": "markdown",
   "metadata": {},
   "source": [
    "#  <p style=\"background-color: #355667\"> <font color = 'white'> Final Model </font> </p>"
   ]
  },
  {
   "cell_type": "code",
   "execution_count": 234,
   "metadata": {},
   "outputs": [
    {
     "name": "stdout",
     "output_type": "stream",
     "text": [
      "GaussianNB(priors=None)\n",
      "\tAccuracy: 0.85487\tPrecision: 0.44212\tRecall: 0.33800\tF1: 0.38311\tF2: 0.35471\n",
      "\tTotal predictions: 15000\tTrue positives:  676\tFalse positives:  853\tFalse negatives: 1324\tTrue negatives: 12147\n",
      "\n",
      "\n",
      "SelectKBest scores:  [(22.78210782973431, 'total_stock_value'), (22.782107829734304, 'ratio_of_total_stock'), (22.61053070687377, 'exercised_stock_options'), (21.06000170753657, 'bonus'), (18.575703268041785, 'salary'), (16.64170707046899, 'ratio_to_poi'), (11.561887713503024, 'deferred_income'), (10.072454529369441, 'long_term_incentive'), (9.380236796811587, 'total_payments'), (9.380236796811587, 'ratio_of_total_payments')]\n",
      "\n",
      "KBest Features ['poi', 'total_stock_value', 'ratio_of_total_stock', 'exercised_stock_options', 'bonus', 'salary', 'ratio_to_poi', 'deferred_income', 'long_term_incentive', 'total_payments', 'ratio_of_total_payments']\n"
     ]
    }
   ],
   "source": [
    "# setting the CLF, my_dataset,feature_list for easy dump and testing\n",
    "\n",
    "\n",
    "clf = GaussianNB()\n",
    "my_dataset = my_dataset\n",
    "features_list = features_list_kbest\n",
    "\n",
    "tester.dump_classifier_and_data(clf, my_dataset, features_list)\n",
    "tester.main();\n",
    "\n",
    "print\n",
    "print 'SelectKBest scores: ', kbest_scores[0:10]\n",
    "print\n",
    "print 'KBest Features',features_list_kbest\n"
   ]
  },
  {
   "cell_type": "markdown",
   "metadata": {},
   "source": [
    "# 6) Conclusion:\n",
    "\n",
    "Based on the above results, GaussianNB outperformed the DecisionTreeClassifier. The comparison of results from <b> GaussianNB model </b> at different stages is summarized below for perusal:\n",
    "\n",
    "<p style=\"background-color: green\"> <font color = 'white'> <b>Performance with new engineered features & SelectKBest Feature Selection (Final Model) is: </b></font> </p>\n",
    "\n",
    "<b>\n",
    "Precision = 44.21%\n",
    "Recall = 33.80%\n",
    "F1 = 38.31%\n",
    "</b>\n",
    "\n",
    "<p style=\"background-color: maroon\"> <font color = 'white'> <b>Baseline Performance with inherent features (no engineered features:) </b></font> </p>\n",
    "\n",
    "<b>\n",
    "Precision = 25.45%\n",
    "Recall = 37.65%\n",
    "F1 = 30.37%\n",
    "</b>\n",
    "\n",
    "\n",
    "<p style=\"background-color: maroon\"> <font color = 'white'> <b>Performance of the model after Tuning: </b></font> </p>\n",
    "\n",
    "<b> Without PCA reduction\n",
    "Precision = 30.54%\n",
    "Recall = 32.85%\n",
    "F1 = 31.65%\n",
    "</b>\n",
    "\n",
    "<b> With PCA reduction\n",
    "Precision = 36.72%\n",
    "Recall = 25.10%\n",
    "F1 = 29.82%\n",
    "</b>\n",
    "<p>\n",
    "The Features that were used in the final model are listed below:\n",
    "\n",
    "\n",
    "Features and the Feature score of the final model <br>\n",
    "[(22.78210782973431, 'total_stock_value'), <br>\n",
    "(22.782107829734304, 'ratio_of_total_stock'), <br>\n",
    "(22.61053070687377, 'exercised_stock_options'),<br>\n",
    "(21.06000170753657, 'bonus'), <br>\n",
    "(18.575703268041785, 'salary'),<br>\n",
    "(16.64170707046899, 'ratio_to_poi'),<br>\n",
    "(11.561887713503024, 'deferred_income'),<br>\n",
    "(10.072454529369441, 'long_term_incentive'),<br>\n",
    "(9.380236796811587, 'total_payments'),<br>\n",
    "(9.380236796811587, 'ratio_of_total_payments')]<br>\n",
    "\n",
    "\n",
    "As excpect the Scaler and PCA did not improve the metrics in the case of GaussianNB and hence my final model did not use them. Interestingly in this case, when Feature Scaling and PCA was applied to the features the F1 score decreased thereby indicating that it led to information loss which the GaussianNB benefitted from.<br>\n",
    "\n",
    "What does the Precision and Recall from the final model mean? A recall of 34% implies that when the person is indeed a POI, the classifier will detect the same 34 out of 100 instances. This is not ideal in the real world scenario. It is important important to note though that it is likely that we could enhance the metric further if further features are made available to the model. This is something that I could further explore to augment my Machine learning skills :)\n",
    "\n"
   ]
  },
  {
   "cell_type": "markdown",
   "metadata": {},
   "source": [
    "<img src=\"C:\\Users\\ss842p\\Documents\\ATT Sab Documents\\Nano Degree\\Data Analyst\\Machine Learning\\ud120-projects-master\\ud120-projects-master\\final_project\\summary.jpeg\">"
   ]
  }
 ],
 "metadata": {
  "kernelspec": {
   "display_name": "Python 2",
   "language": "python",
   "name": "python2"
  },
  "language_info": {
   "codemirror_mode": {
    "name": "ipython",
    "version": 2
   },
   "file_extension": ".py",
   "mimetype": "text/x-python",
   "name": "python",
   "nbconvert_exporter": "python",
   "pygments_lexer": "ipython2",
   "version": "2.7.14"
  }
 },
 "nbformat": 4,
 "nbformat_minor": 2
}
